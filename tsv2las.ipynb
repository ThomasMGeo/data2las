{
 "cells": [
  {
   "cell_type": "code",
   "execution_count": 116,
   "metadata": {},
   "outputs": [],
   "source": [
    "# short script to go from data to .las files\n",
    "# 99.8% of this is borrowed from the lasio documents! They did a great job\n",
    "# shoutout to Kent Uni"
   ]
  },
  {
   "cell_type": "code",
   "execution_count": 117,
   "metadata": {},
   "outputs": [],
   "source": [
    "import lasio\n",
    "import numpy as np\n",
    "import pandas as pd"
   ]
  },
  {
   "cell_type": "code",
   "execution_count": 118,
   "metadata": {},
   "outputs": [],
   "source": [
    "las = lasio.LASFile()      # make an empty las file\n",
    "file_name = 'sample_file4' # don't add .las to the end, this will be the output file name"
   ]
  },
  {
   "cell_type": "code",
   "execution_count": 107,
   "metadata": {},
   "outputs": [],
   "source": [
    "# df = pd.read_table('GeoExploration.tsv', sep='\\t', header=0) # If you want to work with the .tsv file directly\n",
    "df = pd.read_csv('brukerTSV.csv')"
   ]
  },
  {
   "cell_type": "markdown",
   "metadata": {},
   "source": [
    "Put in some well details here"
   ]
  },
  {
   "cell_type": "code",
   "execution_count": 108,
   "metadata": {},
   "outputs": [],
   "source": [
    "las.well.CTRY = 'USA'\n",
    "las.well.API = 10001\n",
    "las.well.STAT = 'Wyoming'\n",
    "las.well.WELL = 'Well Name'\n",
    "las.well.SRVC = 'Bruker Tracker 5'"
   ]
  },
  {
   "cell_type": "code",
   "execution_count": 109,
   "metadata": {},
   "outputs": [],
   "source": [
    "# list(df.columns) # If you want to QC column's"
   ]
  },
  {
   "cell_type": "code",
   "execution_count": 110,
   "metadata": {},
   "outputs": [
    {
     "data": {
      "text/plain": [
       "0    200\n",
       "1    209\n",
       "2    210\n",
       "3    211\n",
       "4    214\n",
       "Name: File, dtype: int64"
      ]
     },
     "execution_count": 110,
     "metadata": {},
     "output_type": "execute_result"
    }
   ],
   "source": [
    "df.File"
   ]
  },
  {
   "cell_type": "code",
   "execution_count": null,
   "metadata": {},
   "outputs": [],
   "source": []
  },
  {
   "cell_type": "code",
   "execution_count": 111,
   "metadata": {},
   "outputs": [],
   "source": [
    "# add details to the header, \n",
    "# in the future will have an .ini/.las file that will port well ID, country, etc.\n",
    "\n",
    "las.well.COMP = 'Colorado School of Mines, CoRE' # I guess we are a company now :p\n"
   ]
  },
  {
   "cell_type": "code",
   "execution_count": 112,
   "metadata": {},
   "outputs": [],
   "source": [
    "from datetime import datetime # lets get the date \n",
    "las.well.DATE = str(datetime.today())\n",
    "las.well.DATE.descr = 'Date file was created'"
   ]
  },
  {
   "cell_type": "code",
   "execution_count": 113,
   "metadata": {},
   "outputs": [],
   "source": [
    "\n",
    "depths = df.File.values\n",
    "\n",
    "sio2 = df.SiO2.values\n",
    "\n",
    "s = df.S.values\n",
    "\n"
   ]
  },
  {
   "cell_type": "code",
   "execution_count": 114,
   "metadata": {},
   "outputs": [],
   "source": [
    "# lets write these curves\n",
    "\n",
    "las.add_curve('DEPT', depths, unit='m', descr= 'File Number')\n",
    "\n",
    "las.add_curve('SiO2', sio2, descr='SiO2')\n",
    "\n",
    "las.add_curve('S', s, descr='S')"
   ]
  },
  {
   "cell_type": "code",
   "execution_count": 115,
   "metadata": {},
   "outputs": [],
   "source": [
    "# write out to file, can write out to version 1.2 as well ... but lets not do that\n",
    "\n",
    "las.write(file_name+'.las', version=2)\n"
   ]
  },
  {
   "cell_type": "code",
   "execution_count": null,
   "metadata": {},
   "outputs": [],
   "source": []
  },
  {
   "cell_type": "code",
   "execution_count": null,
   "metadata": {},
   "outputs": [],
   "source": []
  }
 ],
 "metadata": {
  "kernelspec": {
   "display_name": "Python [conda env:wells]",
   "language": "python",
   "name": "conda-env-wells-py"
  },
  "language_info": {
   "codemirror_mode": {
    "name": "ipython",
    "version": 3
   },
   "file_extension": ".py",
   "mimetype": "text/x-python",
   "name": "python",
   "nbconvert_exporter": "python",
   "pygments_lexer": "ipython3",
   "version": "3.6.5"
  }
 },
 "nbformat": 4,
 "nbformat_minor": 2
}
