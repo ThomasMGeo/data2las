{
 "cells": [
  {
   "cell_type": "code",
   "execution_count": 82,
   "metadata": {},
   "outputs": [],
   "source": [
    "# short script to go from data to .las files\n",
    "# 99.8% of this is borrowed from the lasio documents! They did a great job\n",
    "# shoutout to Kent Uni"
   ]
  },
  {
   "cell_type": "code",
   "execution_count": 83,
   "metadata": {},
   "outputs": [],
   "source": [
    "import lasio\n",
    "import numpy as np"
   ]
  },
  {
   "cell_type": "code",
   "execution_count": 91,
   "metadata": {},
   "outputs": [],
   "source": [
    "las = lasio.LASFile()      # make an empty las file\n",
    "file_name = 'sample_file2' # don't add .las to the end"
   ]
  },
  {
   "cell_type": "code",
   "execution_count": 85,
   "metadata": {},
   "outputs": [],
   "source": [
    "# add details to the header, \n",
    "# in the future will have an .ini/.las file that will port well ID, country, etc.\n",
    "\n",
    "las.well.COMP = 'Colorado School of Mines, CoRE' # I guess we are a company now :p\n"
   ]
  },
  {
   "cell_type": "code",
   "execution_count": 87,
   "metadata": {},
   "outputs": [],
   "source": [
    "from datetime import datetime # lets get the date \n",
    "las.well.DATE = str(datetime.today())\n",
    "las.well.DATE.descr = 'Date file was created'"
   ]
  },
  {
   "cell_type": "code",
   "execution_count": 88,
   "metadata": {},
   "outputs": [],
   "source": [
    "## Super duper fake data\n",
    "depths = np.arange(10, 100, 0.25)\n",
    "\n",
    "synth = np.log10(depths)*5+np.random.random(len(depths))\n",
    "\n",
    "scldg = synth*2\n",
    "\n",
    "synth[:8] = np.nan # sprinkle in some NAN's like a real .las, not needed for real data\n",
    "scldg[:8] = np.nan"
   ]
  },
  {
   "cell_type": "code",
   "execution_count": 92,
   "metadata": {},
   "outputs": [],
   "source": [
    "# lets write these curves\n",
    "\n",
    "las.add_curve('DEPT', depths, unit='m', descr= 'Depth in meters')\n",
    "\n",
    "las.add_curve('SYNTH', synth, descr='Fake Data')\n",
    "\n",
    "las.add_curve('SCLDG', scldg, descr='More Fake Data')"
   ]
  },
  {
   "cell_type": "code",
   "execution_count": 90,
   "metadata": {},
   "outputs": [],
   "source": [
    "# write out to file, can write out to version 1.2 as well ... but lets not do that\n",
    "\n",
    "las.write(file_name+'.las', version=2)\n"
   ]
  }
 ],
 "metadata": {
  "kernelspec": {
   "display_name": "Python [conda env:wells]",
   "language": "python",
   "name": "conda-env-wells-py"
  },
  "language_info": {
   "codemirror_mode": {
    "name": "ipython",
    "version": 3
   },
   "file_extension": ".py",
   "mimetype": "text/x-python",
   "name": "python",
   "nbconvert_exporter": "python",
   "pygments_lexer": "ipython3",
   "version": "3.6.5"
  }
 },
 "nbformat": 4,
 "nbformat_minor": 2
}
